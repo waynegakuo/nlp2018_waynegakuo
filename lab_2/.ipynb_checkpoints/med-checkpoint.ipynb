{
 "cells": [
  {
   "cell_type": "code",
   "execution_count": 6,
   "metadata": {},
   "outputs": [
    {
     "name": "stdout",
     "output_type": "stream",
     "text": [
      "Minimum edit distance between intention and execution is 8\n"
     ]
    }
   ],
   "source": [
    "def medistance(source, target):\n",
    "    n= len(source)\n",
    "    m= len(target)\n",
    "    \n",
    "    insert_cost=1\n",
    "    sub_cost=2\n",
    "    del_cost=1\n",
    "    \n",
    "    D=[[0 for a in range(n+1)] for a in range(m+1)]\n",
    "    \n",
    "    for i in range (1, n+1):\n",
    "        D[i][0]=i\n",
    "        \n",
    "    for j in range (1, m+1):\n",
    "        D[0][j]=j\n",
    "        \n",
    "        #recurrence\n",
    "    for i in range (1, n+1):\n",
    "        for j in range (1, m+1):\n",
    "            if source[i-1]==target[j-1]:\n",
    "                D[i][j]=D[i-1][j-1]\n",
    "            else:\n",
    "                D[i][j]=min(D[i-1][j]+del_cost,\n",
    "                                D[i-1][j-1]+sub_cost,\n",
    "                                    D[i][j-1]+insert_cost)\n",
    "                \n",
    "    return D [n][m]\n",
    "\n",
    "\n",
    "s=\"intention\"\n",
    "t=\"execution\"\n",
    "\n",
    "print (\"Minimum edit distance between\", s, \"and\", t, \"is\", medistance(s,t))"
   ]
  },
  {
   "cell_type": "code",
   "execution_count": null,
   "metadata": {},
   "outputs": [],
   "source": []
  }
 ],
 "metadata": {
  "kernelspec": {
   "display_name": "Python 3",
   "language": "python",
   "name": "python3"
  },
  "language_info": {
   "codemirror_mode": {
    "name": "ipython",
    "version": 3
   },
   "file_extension": ".py",
   "mimetype": "text/x-python",
   "name": "python",
   "nbconvert_exporter": "python",
   "pygments_lexer": "ipython3",
   "version": "3.6.3"
  }
 },
 "nbformat": 4,
 "nbformat_minor": 2
}
