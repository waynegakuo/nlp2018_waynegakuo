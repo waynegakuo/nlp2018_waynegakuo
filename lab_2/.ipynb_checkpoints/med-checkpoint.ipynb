{
 "cells": [
  {
   "cell_type": "code",
   "execution_count": 1,
   "metadata": {},
   "outputs": [
    {
     "ename": "NameError",
     "evalue": "name 'sys' is not defined",
     "output_type": "error",
     "traceback": [
      "\u001b[1;31m---------------------------------------------------------------------------\u001b[0m",
      "\u001b[1;31mNameError\u001b[0m                                 Traceback (most recent call last)",
      "\u001b[1;32m<ipython-input-1-28071b90cc03>\u001b[0m in \u001b[0;36m<module>\u001b[1;34m()\u001b[0m\n\u001b[0;32m     34\u001b[0m     \u001b[1;32mreturn\u001b[0m \u001b[0mD\u001b[0m \u001b[1;33m[\u001b[0m\u001b[0mn\u001b[0m\u001b[1;33m]\u001b[0m\u001b[1;33m[\u001b[0m\u001b[0mm\u001b[0m\u001b[1;33m]\u001b[0m\u001b[1;33m\u001b[0m\u001b[0m\n\u001b[0;32m     35\u001b[0m \u001b[1;33m\u001b[0m\u001b[0m\n\u001b[1;32m---> 36\u001b[1;33m \u001b[0mmedistance\u001b[0m\u001b[1;33m(\u001b[0m\u001b[0msys\u001b[0m\u001b[1;33m.\u001b[0m\u001b[0margv\u001b[0m\u001b[1;33m[\u001b[0m\u001b[1;36m1\u001b[0m\u001b[1;33m]\u001b[0m\u001b[1;33m,\u001b[0m \u001b[0msys\u001b[0m\u001b[1;33m.\u001b[0m\u001b[0margv\u001b[0m\u001b[1;33m[\u001b[0m\u001b[1;36m2\u001b[0m\u001b[1;33m]\u001b[0m\u001b[1;33m)\u001b[0m\u001b[1;33m\u001b[0m\u001b[0m\n\u001b[0m\u001b[0;32m     37\u001b[0m \u001b[0ms\u001b[0m\u001b[1;33m=\u001b[0m\u001b[0msys\u001b[0m\u001b[1;33m.\u001b[0m\u001b[0margv\u001b[0m\u001b[1;33m[\u001b[0m\u001b[1;36m1\u001b[0m\u001b[1;33m]\u001b[0m\u001b[1;33m\u001b[0m\u001b[0m\n\u001b[0;32m     38\u001b[0m \u001b[0mt\u001b[0m\u001b[1;33m=\u001b[0m\u001b[0msys\u001b[0m\u001b[1;33m.\u001b[0m\u001b[0margv\u001b[0m\u001b[1;33m[\u001b[0m\u001b[1;36m2\u001b[0m\u001b[1;33m]\u001b[0m\u001b[1;33m\u001b[0m\u001b[0m\n",
      "\u001b[1;31mNameError\u001b[0m: name 'sys' is not defined"
     ]
    }
   ],
   "source": [
    "import sys\n",
    "\n",
    "def medistance(source, target):\n",
    "    #length of the source and target assigned to n and m respecitvely\n",
    "    n= len(source) \n",
    "    m= len(target)\n",
    "    \n",
    "    #initializing the costs of insertion, substitution and deletion\n",
    "    ins_cost=1\n",
    "    sub_cost=2\n",
    "    del_cost=1\n",
    "    \n",
    "    #creation of the distance matrix using a 2-D array\n",
    "    D=[[0 for a in range(n+1)] for a in range(m+1)]\n",
    "    \n",
    "    #initializing the zeroth row \n",
    "    for i in range (0, n+1):\n",
    "        D[i][0]=i\n",
    "        \n",
    "    #initializing the zeroth column\n",
    "    for j in range (0, m+1):\n",
    "        D[0][j]=j\n",
    "        \n",
    "    #Recurrence relation\n",
    "    for i in range (1, n+1):\n",
    "        for j in range (1, m+1):\n",
    "            if source[i-1]==target[j-1]:\n",
    "                D[i][j]=D[i-1][j-1]\n",
    "            else:\n",
    "                D[i][j]=min(D[i-1][j]+del_cost,\n",
    "                                D[i-1][j-1]+sub_cost,\n",
    "                                    D[i][j-1]+ins_cost)\n",
    "    \n",
    "    #Termination\n",
    "    return D [n][m]\n",
    "\n",
    "medistance(sys.argv[1], sys.argv[2])\n",
    "s=sys.argv[1]\n",
    "t=sys.argv[2]\n",
    "\n",
    "print (\"Minimum edit distance between\", s, \"and\", t, \"is\", medistance(s,t))"
   ]
  },
  {
   "cell_type": "code",
   "execution_count": null,
   "metadata": {},
   "outputs": [],
   "source": []
  }
 ],
 "metadata": {
  "kernelspec": {
   "display_name": "Python 3",
   "language": "python",
   "name": "python3"
  },
  "language_info": {
   "codemirror_mode": {
    "name": "ipython",
    "version": 3
   },
   "file_extension": ".py",
   "mimetype": "text/x-python",
   "name": "python",
   "nbconvert_exporter": "python",
   "pygments_lexer": "ipython3",
   "version": "3.6.3"
  }
 },
 "nbformat": 4,
 "nbformat_minor": 2
}
