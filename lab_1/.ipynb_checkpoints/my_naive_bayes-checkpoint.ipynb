{
 "cells": [
  {
   "cell_type": "code",
   "execution_count": 1,
   "metadata": {},
   "outputs": [],
   "source": [
    "import sys\n",
    "import os\n",
    "import re\n",
    "\n",
    "file_to_read= 'amazon_cells_labelled.txt'\n",
    "positives=[] #list for positive sentences\n",
    "negatives=[] #list for negative sentences\n",
    "\n",
    "def extract():\n",
    "    with open (file_to_read) as file:\n",
    "        text=file.read()\n",
    "        words = sorted(set(re.split(r'\\W+', text)))\n",
    "        words=[word.lower()for word in words]\n",
    "        vocab_length=len(words)\n",
    "        return (vocab_length)\n",
    "    file.close()"
   ]
  },
  {
   "cell_type": "code",
   "execution_count": 3,
   "metadata": {},
   "outputs": [],
   "source": [
    "def classifier():\n",
    "    positive_counter=0 #keep track of number of positive sentences\n",
    "    negative_counter=0 #keep track of number of negative sentences\n",
    "    with open (file_to_read, 'r+') as file:\n",
    "        for line in file:\n",
    "            if (line.find('1'))!=-1:\n",
    "                positive_counter +=1\n",
    "                positives.append(line)\n",
    "            \n",
    "            elif (line.find('0'))!=-1:\n",
    "                negative_counter+=1\n",
    "                negatives.append(line)\n",
    "                \n",
    "        return (positive_counter, negative_counter)\n",
    "    file.close()\n"
   ]
  },
  {
   "cell_type": "code",
   "execution_count": 4,
   "metadata": {},
   "outputs": [
    {
     "name": "stdout",
     "output_type": "stream",
     "text": [
      "Vocabulary length is 2191\n",
      "Positives are 514\n",
      "Negatives are 486\n"
     ]
    }
   ],
   "source": [
    "length=extract()\n",
    "print('Vocabulary length is', length)\n",
    "\n",
    "positive_class, negative_class=classifier()\n",
    "\n",
    "print('Positives are', positive_class)\n",
    "print('Negatives are', negative_class)"
   ]
  },
  {
   "cell_type": "code",
   "execution_count": null,
   "metadata": {},
   "outputs": [],
   "source": []
  }
 ],
 "metadata": {
  "kernelspec": {
   "display_name": "Python 3",
   "language": "python",
   "name": "python3"
  },
  "language_info": {
   "codemirror_mode": {
    "name": "ipython",
    "version": 3
   },
   "file_extension": ".py",
   "mimetype": "text/x-python",
   "name": "python",
   "nbconvert_exporter": "python",
   "pygments_lexer": "ipython3",
   "version": "3.6.3"
  }
 },
 "nbformat": 4,
 "nbformat_minor": 2
}
