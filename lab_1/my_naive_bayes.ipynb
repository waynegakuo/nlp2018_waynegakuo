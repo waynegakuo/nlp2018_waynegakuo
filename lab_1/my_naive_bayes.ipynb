{
 "cells": [
  {
   "cell_type": "code",
   "execution_count": 8,
   "metadata": {},
   "outputs": [],
   "source": [
    "import sys\n",
    "import os\n",
    "import re\n",
    "\n",
    "def main():\n",
    "    file_to_read= 'amazon_cells_labelled.txt'\n",
    "    positives=[] #list for positive sentences\n",
    "    negatives=[] #list for negative sentences\n",
    "    positive_counter=0 #keep track of number of positive sentences\n",
    "    negative_counter=0 #keep track of number of negative sentences\n",
    "    \n",
    "    #opening file and putting unique words into vocabulary set\n",
    "    with open (file_to_read) as file:\n",
    "        text=file.read()\n",
    "        words = sorted(set(re.split(r'\\W+', text)))\n",
    "        words=[word.lower()for word in words]\n",
    "        length=len(words)\n",
    "        print(\"Length of vocabulary set is:\", length)\n",
    "    file.close()\n",
    "    \n",
    "    #opening file and placing positive words in positive list and negative list respectively     \n",
    "    with open (file_to_read, 'r+') as file:\n",
    "        for line in file:\n",
    "            if (line.find('1'))!=-1:\n",
    "                positive_counter +=1\n",
    "                positives.append(line)\n",
    "                #print(positives)\n",
    "            \n",
    "            elif (line.find('0'))!=-1:\n",
    "                negative_counter+=1\n",
    "                negatives.append(line)\n",
    "                #print(negatives)\n",
    "                \n",
    "        print (\"Total Number of positive sentences are: \", positive_counter)\n",
    "        print (\"Total Number of negative sentences are: \", negative_counter)\n",
    "    file.close()"
   ]
  },
  {
   "cell_type": "code",
   "execution_count": 9,
   "metadata": {},
   "outputs": [
    {
     "name": "stdout",
     "output_type": "stream",
     "text": [
      "Length of vocabulary set is: 2191\n",
      "Total Number of positive sentences are:  514\n",
      "Total Number of negative sentences are:  486\n"
     ]
    }
   ],
   "source": [
    "main()"
   ]
  },
  {
   "cell_type": "code",
   "execution_count": null,
   "metadata": {},
   "outputs": [],
   "source": []
  }
 ],
 "metadata": {
  "kernelspec": {
   "display_name": "Python 3",
   "language": "python",
   "name": "python3"
  },
  "language_info": {
   "codemirror_mode": {
    "name": "ipython",
    "version": 3
   },
   "file_extension": ".py",
   "mimetype": "text/x-python",
   "name": "python",
   "nbconvert_exporter": "python",
   "pygments_lexer": "ipython3",
   "version": "3.6.3"
  }
 },
 "nbformat": 4,
 "nbformat_minor": 2
}
